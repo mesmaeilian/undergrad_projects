{
 "cells": [
  {
   "cell_type": "code",
   "execution_count": 3,
   "metadata": {},
   "outputs": [
    {
     "name": "stdout",
     "output_type": "stream",
     "text": [
      "Using CAMB 1.0.3 installed at /Users/Muhammad/Desktop/Cosmology/lib/python3.6/site-packages/camb\n",
      "Note: redshifts have been re-sorted (earliest first)\n",
      "w, wa model parameters:\n",
      "\n",
      " class: <DarkEnergyFluid>\n",
      " w = -0.99\n",
      " wa = 0.0\n",
      " cs2 = 1.0\n",
      " use_tabulated_w = False\n",
      " \n"
     ]
    }
   ],
   "source": [
    "import sys, platform, os\n",
    "import matplotlib\n",
    "from matplotlib import pyplot as plt\n",
    "import numpy as np\n",
    "\n",
    "\n",
    "#Assume installed from github using \"git clone --recursive https://github.com/cmbant/CAMB.git\"\n",
    "#This file is then in the docs folders\n",
    "camb_path = os.path.realpath(os.path.join(os.getcwd(),'..'))\n",
    "sys.path.insert(0,camb_path)\n",
    "import camb\n",
    "from camb import model, initialpower\n",
    "from camb.dark_energy import DarkEnergyPPF, DarkEnergyFluid\n",
    "print('Using CAMB %s installed at %s'%(camb.__version__,os.path.dirname(camb.__file__)))\n",
    "\n",
    "pars = camb.CAMBparams()\n",
    "pars.set_cosmology(H0=67.5, ombh2=0.022, omch2=0.122)\n",
    "pars.InitPower.set_params(ns=0.965)\n",
    "#Note non-linear corrections couples to smaller scales than you want\n",
    "#pars.set_matter_power(redshifts=[0., 2], kmax=2.0)\n",
    "z=np.arange(0, 2, 0.1)\n",
    "pars.set_matter_power(redshifts=z, kmax=2.0)\n",
    "\n",
    "\n",
    "pars.NonLinear = model.NonLinear_none\n",
    "results = camb.get_results(pars)\n",
    "kh, z, pk = results.get_matter_power_spectrum(minkh=1e-4, maxkh=1, npoints = 200)\n",
    "s8 = np.array(results.get_sigma8())\n",
    "\n",
    "#Non-Linear spectra (Halofit)\n",
    "pars.NonLinear = model.NonLinear_both\n",
    "results.calc_power_spectra(pars)\n",
    "kh_nonlin, z_nonlin, pk_nonlin = results.get_matter_power_spectrum(minkh=1e-4, maxkh=1, npoints = 200)\n",
    "#pars.DarkEnergy = DarkEnergyPPF(w=-1.2, wa=0.2)\n",
    "w=-0.99\n",
    "pars.set_dark_energy(w=w, wa=0, dark_energy_model='fluid') \n",
    "print('w, wa model parameters:\\n\\n', pars.DarkEnergy)\n",
    "pars.NonLinear = model.NonLinear_both\n",
    "results2 = camb.get_background(pars)\n",
    "results2.calc_power_spectra(pars)\n",
    "kh_nonlin, z_nonlin, pk_nonlin = results2.get_matter_power_spectrum(minkh=1e-4, maxkh=1, npoints = 200)\n",
    "k=kh_nonlin\n",
    "#or can also use a w(a) numerical function \n",
    "#(note this will slow things down; make your own dark energy class in fortran for best performance)\n",
    "# a = np.logspace(-5, 0, 1000)\n",
    "# w = -1.2 + 0.2 * (1 - a)\n",
    "# pars.DarkEnergy= DarkEnergyPPF()\n",
    "# pars.DarkEnergy.set_w_a_table(a, w)\n",
    "# print('Table-interpolated parameters (w and wa are set to estimated values at 0):\\n\\n' \n",
    "#       ,pars.DarkEnergy)\n",
    "# results2 = camb.get_background(pars)\n",
    "ombh2=0.022\n",
    "omch2=0.122\n",
    "H_0=67.5\n",
    "h=H_0/100\n",
    "omega_m_0=(ombh2+omch2)/(h**2)\n",
    "d=[]\n",
    "d2=[]\n",
    "for i in range(len(kh)-1):\n",
    "    delta= (np.log(kh[i+1])-np.log(kh[i]))\n",
    "    d.append(delta)    \n",
    "#print(d)\n",
    "for i in range(len(kh)-1):\n",
    "    deltak= (kh[i+1]-kh[i])/kh[i]\n",
    "    d2.append(deltak)    \n",
    "\n",
    "omega_k_0=0\n",
    "omega_r_0=0\n",
    "omega_lambda_0=1-(omega_m_0+omega_k_0+omega_r_0)\n",
    "c=2.9*10**5 #km/s\n",
    "H_0=67.5\n",
    "mu=np.linspace(-1,1,10)\n",
    "def b(z):\n",
    "    return np.sqrt(1+z)\n",
    "    \n",
    "w=-1\n",
    "w2=-0.99\n",
    "#mu=np.arange(-1,1,0.01)    \n",
    "def sigma_r(z):\n",
    "    sigma(z)*c/H_ref(z,w,omega_m_0, omega_r_0,omega_k_0,omega_lambda_0)\n",
    "def sigma(z):\n",
    "    return 0.001*(1+z)\n",
    "def sigmav(z):\n",
    "    return 300/H_ref(z,w,omega_m_0, omega_r_0,omega_k_0,omega_lambda_0)\n",
    "\n",
    "def H_ref(z,w,omega_m_0, omega_r_0,omega_k_0,omega_lambda_0):\n",
    "    return H_0* np.sqrt(omega_m_0 * (1+z)**3 + omega_r_0*(1+z)**4+ omega_k_0*(1+z)**2 + omega_lambda_0* (1+z)**(3+3*w))\n",
    "  #  return H_0\n",
    "B=H_ref(1,w,omega_m_0, omega_r_0,omega_k_0,omega_lambda_0)\n",
    "#print(B)\n",
    "def Hubble(z):\n",
    "    return results.hubble_parameter(z)\n",
    "def Hubblem(z):\n",
    "    return results2.hubble_parameter(z)\n",
    "\n",
    "def H_m(z,w2,omega_m_0, omega_r_0,omega_k_0,omega_lambda_0):\n",
    "    return H_0* np.sqrt(omega_m_0 * (1+z)**3 + omega_r_0*(1+z)**4+ omega_k_0*(1+z)**2 + omega_lambda_0* (1+z)**(3+3*w2))\n",
    "  #  return H_0\n",
    "#print(z,Hubble(z),Hubblem(z))\n",
    "#print(H_ref(0.1,w,omega_m_0, omega_r_0,omega_k_0,omega_lambda_0), H_m(0.1,w2,omega_m_0, omega_r_0,omega_k_0,omega_lambda_0))    \n",
    "    \n",
    "def Omega_m(z):\n",
    "    A=H_ref(z,w,omega_m_0, omega_r_0,omega_k_0,omega_lambda_0)\n",
    "    return (omega_m_0 * (1+z)**3) *(H_0/A)**2\n",
    "C=Omega_m(1)\n",
    "#print(C)\n",
    "\n",
    "gamma=0.545\n",
    "etha=0\n",
    "#DA = results.angular_diameter_distance(z)\n",
    "def f_g(z):\n",
    "    return (Omega_m(z)**gamma) * (1+etha)\n",
    "def DA_ref(z):\n",
    "    return results.angular_diameter_distance(z)\n",
    "def DA_m(z):\n",
    "    return results2.angular_diameter_distance(z)\n",
    "def AP(z):\n",
    "    #al=[]\n",
    "    return (H_m(z,w2,omega_m_0, omega_r_0,omega_k_0,omega_lambda_0)/H_ref(z,w,omega_m_0, omega_r_0,omega_k_0,omega_lambda_0))*(DA_ref(z)**2/DA_m(z)**2)\n",
    "\n",
    "\n",
    "\n",
    "\n",
    "# In[ ]:\n",
    "\n",
    "\n",
    "\n",
    "\n"
   ]
  },
  {
   "cell_type": "code",
   "execution_count": 14,
   "metadata": {},
   "outputs": [
    {
     "name": "stdout",
     "output_type": "stream",
     "text": [
      "395.9534732554509\n"
     ]
    },
    {
     "ename": "TypeError",
     "evalue": "'int' object is not callable",
     "output_type": "error",
     "traceback": [
      "\u001b[0;31m---------------------------------------------------------------------------\u001b[0m",
      "\u001b[0;31mTypeError\u001b[0m                                 Traceback (most recent call last)",
      "\u001b[0;32m<ipython-input-14-e2059b08e238>\u001b[0m in \u001b[0;36m<module>\u001b[0;34m\u001b[0m\n\u001b[1;32m     10\u001b[0m \u001b[0;34m\u001b[0m\u001b[0m\n\u001b[1;32m     11\u001b[0m \u001b[0mpknonlin\u001b[0m \u001b[0;34m=\u001b[0m \u001b[0mpk_nonlin\u001b[0m\u001b[0;34m[\u001b[0m\u001b[0;36m0\u001b[0m\u001b[0;34m]\u001b[0m\u001b[0;34m\u001b[0m\u001b[0m\n\u001b[0;32m---> 12\u001b[0;31m \u001b[0mkh\u001b[0m\u001b[0;34m,\u001b[0m\u001b[0mpk_o\u001b[0m\u001b[0;34m=\u001b[0m\u001b[0mP_obs\u001b[0m\u001b[0;34m(\u001b[0m\u001b[0mk\u001b[0m\u001b[0;34m,\u001b[0m\u001b[0;36m0.5\u001b[0m\u001b[0;34m,\u001b[0m\u001b[0;36m0\u001b[0m\u001b[0;34m,\u001b[0m \u001b[0mpknonlin\u001b[0m\u001b[0;34m)\u001b[0m\u001b[0;34m\u001b[0m\u001b[0m\n\u001b[0m\u001b[1;32m     13\u001b[0m \u001b[0mplt\u001b[0m\u001b[0;34m.\u001b[0m\u001b[0mloglog\u001b[0m\u001b[0;34m(\u001b[0m\u001b[0mk\u001b[0m\u001b[0;34m,\u001b[0m \u001b[0mpk_o\u001b[0m\u001b[0;34m)\u001b[0m\u001b[0;34m\u001b[0m\u001b[0m\n",
      "\u001b[0;32m<ipython-input-14-e2059b08e238>\u001b[0m in \u001b[0;36mP_obs\u001b[0;34m(k, z, mu, pk_nonlin)\u001b[0m\n\u001b[1;32m      4\u001b[0m     \u001b[0;32mfor\u001b[0m \u001b[0mi\u001b[0m\u001b[0;34m,\u001b[0m\u001b[0mj\u001b[0m \u001b[0;32min\u001b[0m \u001b[0menumerate\u001b[0m\u001b[0;34m(\u001b[0m\u001b[0mk\u001b[0m\u001b[0;34m)\u001b[0m\u001b[0;34m:\u001b[0m\u001b[0;34m\u001b[0m\u001b[0m\n\u001b[1;32m      5\u001b[0m         \u001b[0mprint\u001b[0m\u001b[0;34m(\u001b[0m\u001b[0mpk_nonlin\u001b[0m\u001b[0;34m[\u001b[0m\u001b[0mi\u001b[0m\u001b[0;34m]\u001b[0m\u001b[0;34m)\u001b[0m\u001b[0;34m\u001b[0m\u001b[0m\n\u001b[0;32m----> 6\u001b[0;31m         \u001b[0mP\u001b[0m\u001b[0;34m=\u001b[0m \u001b[0;34m(\u001b[0m\u001b[0mAP\u001b[0m\u001b[0;34m(\u001b[0m\u001b[0mz\u001b[0m\u001b[0;34m)\u001b[0m\u001b[0;34m)\u001b[0m \u001b[0;34m*\u001b[0m \u001b[0;34m(\u001b[0m\u001b[0mb\u001b[0m\u001b[0;34m(\u001b[0m\u001b[0mz\u001b[0m\u001b[0;34m)\u001b[0m\u001b[0;34m**\u001b[0m\u001b[0;36m2\u001b[0m\u001b[0;34m)\u001b[0m \u001b[0;34m*\u001b[0m \u001b[0;34m(\u001b[0m\u001b[0;36m1\u001b[0m\u001b[0;34m+\u001b[0m\u001b[0;34m(\u001b[0m\u001b[0mf_g\u001b[0m\u001b[0;34m(\u001b[0m\u001b[0mz\u001b[0m\u001b[0;34m)\u001b[0m\u001b[0;34m/\u001b[0m\u001b[0mb\u001b[0m\u001b[0;34m(\u001b[0m\u001b[0mz\u001b[0m\u001b[0;34m)\u001b[0m\u001b[0;34m)\u001b[0m\u001b[0;34m*\u001b[0m \u001b[0mmu\u001b[0m\u001b[0;34m**\u001b[0m\u001b[0;36m2\u001b[0m\u001b[0;34m)\u001b[0m\u001b[0;34m**\u001b[0m\u001b[0;36m2\u001b[0m \u001b[0;34m*\u001b[0m  \u001b[0mnp\u001b[0m\u001b[0;34m.\u001b[0m\u001b[0mexp\u001b[0m\u001b[0;34m(\u001b[0m\u001b[0;34m-\u001b[0m\u001b[0;34m(\u001b[0m\u001b[0mj\u001b[0m\u001b[0;34m**\u001b[0m\u001b[0;36m2\u001b[0m\u001b[0;34m)\u001b[0m\u001b[0;34m*\u001b[0m\u001b[0mmu\u001b[0m\u001b[0;34m**\u001b[0m\u001b[0;36m2\u001b[0m\u001b[0;34m(\u001b[0m\u001b[0msigma\u001b[0m\u001b[0;34m(\u001b[0m\u001b[0mz\u001b[0m\u001b[0;34m)\u001b[0m\u001b[0;34m**\u001b[0m\u001b[0;36m2\u001b[0m\u001b[0;34m+\u001b[0m\u001b[0msigmav\u001b[0m\u001b[0;34m(\u001b[0m\u001b[0mz\u001b[0m\u001b[0;34m)\u001b[0m\u001b[0;34m**\u001b[0m\u001b[0;36m2\u001b[0m\u001b[0;34m)\u001b[0m\u001b[0;34m)\u001b[0m\u001b[0;34m\u001b[0m\u001b[0m\n\u001b[0m\u001b[1;32m      7\u001b[0m \u001b[0;31m#         *pk_nonlin[i]\u001b[0m\u001b[0;34m\u001b[0m\u001b[0;34m\u001b[0m\u001b[0m\n\u001b[1;32m      8\u001b[0m         \u001b[0mpk_o\u001b[0m\u001b[0;34m.\u001b[0m\u001b[0mappend\u001b[0m\u001b[0;34m(\u001b[0m\u001b[0mP\u001b[0m\u001b[0;34m)\u001b[0m\u001b[0;34m\u001b[0m\u001b[0m\n",
      "\u001b[0;31mTypeError\u001b[0m: 'int' object is not callable"
     ]
    }
   ],
   "source": [
    "def P_obs(k,z,mu,pk_nonlin):\n",
    "    pk_o=[]\n",
    "    \n",
    "    for i,j in enumerate(k):\n",
    "        print(pk_nonlin[i])\n",
    "        P= (AP(z)) * (b(z)**2) * (1+(f_g(z)/b(z))* mu**2)**2 *  np.exp(-(j**2)*mu**2(sigma(z)**2+sigmav(z)**2))\n",
    "#         *pk_nonlin[i]\n",
    "        pk_o.append(P)\n",
    "    return k,pk_o\n",
    "\n",
    "pknonlin = pk_nonlin[0]\n",
    "kh,pk_o=P_obs(k,0.5,0, pknonlin)\n",
    "plt.loglog(k, pk_o)"
   ]
  },
  {
   "cell_type": "code",
   "execution_count": 8,
   "metadata": {},
   "outputs": [
    {
     "data": {
      "text/plain": [
       "3.359091824339452"
      ]
     },
     "execution_count": 8,
     "metadata": {},
     "output_type": "execute_result"
    }
   ],
   "source": [
    "sigmav(0.5)"
   ]
  },
  {
   "cell_type": "code",
   "execution_count": 9,
   "metadata": {},
   "outputs": [
    {
     "data": {
      "text/plain": [
       "array([1.00000000e-04, 1.04737090e-04, 1.09698580e-04, 1.14895100e-04,\n",
       "       1.20337784e-04, 1.26038293e-04, 1.32008840e-04, 1.38262217e-04,\n",
       "       1.44811823e-04, 1.51671689e-04, 1.58856513e-04, 1.66381689e-04,\n",
       "       1.74263339e-04, 1.82518349e-04, 1.91164408e-04, 2.00220037e-04,\n",
       "       2.09704640e-04, 2.19638537e-04, 2.30043012e-04, 2.40940356e-04,\n",
       "       2.52353917e-04, 2.64308149e-04, 2.76828663e-04, 2.89942285e-04,\n",
       "       3.03677112e-04, 3.18062569e-04, 3.33129479e-04, 3.48910121e-04,\n",
       "       3.65438307e-04, 3.82749448e-04, 4.00880633e-04, 4.19870708e-04,\n",
       "       4.39760361e-04, 4.60592204e-04, 4.82410870e-04, 5.05263107e-04,\n",
       "       5.29197874e-04, 5.54266452e-04, 5.80522552e-04, 6.08022426e-04,\n",
       "       6.36824994e-04, 6.66991966e-04, 6.98587975e-04, 7.31680714e-04,\n",
       "       7.66341087e-04, 8.02643352e-04, 8.40665289e-04, 8.80488358e-04,\n",
       "       9.22197882e-04, 9.65883224e-04, 1.01163798e-03, 1.05956018e-03,\n",
       "       1.10975250e-03, 1.16232247e-03, 1.21738273e-03, 1.27505124e-03,\n",
       "       1.33545156e-03, 1.39871310e-03, 1.46497140e-03, 1.53436841e-03,\n",
       "       1.60705282e-03, 1.68318035e-03, 1.76291412e-03, 1.84642494e-03,\n",
       "       1.93389175e-03, 2.02550194e-03, 2.12145178e-03, 2.22194686e-03,\n",
       "       2.32720248e-03, 2.43744415e-03, 2.55290807e-03, 2.67384162e-03,\n",
       "       2.80050389e-03, 2.93316628e-03, 3.07211300e-03, 3.21764175e-03,\n",
       "       3.37006433e-03, 3.52970730e-03, 3.69691271e-03, 3.87203878e-03,\n",
       "       4.05546074e-03, 4.24757155e-03, 4.44878283e-03, 4.65952567e-03,\n",
       "       4.88025158e-03, 5.11143348e-03, 5.35356668e-03, 5.60716994e-03,\n",
       "       5.87278661e-03, 6.15098579e-03, 6.44236351e-03, 6.74754405e-03,\n",
       "       7.06718127e-03, 7.40196000e-03, 7.75259749e-03, 8.11984499e-03,\n",
       "       8.50448934e-03, 8.90735464e-03, 9.32930403e-03, 9.77124154e-03,\n",
       "       1.02341140e-02, 1.07189132e-02, 1.12266777e-02, 1.17584955e-02,\n",
       "       1.23155060e-02, 1.28989026e-02, 1.35099352e-02, 1.41499130e-02,\n",
       "       1.48202071e-02, 1.55222536e-02, 1.62575567e-02, 1.70276917e-02,\n",
       "       1.78343088e-02, 1.86791360e-02, 1.95639834e-02, 2.04907469e-02,\n",
       "       2.14614120e-02, 2.24780583e-02, 2.35428641e-02, 2.46581108e-02,\n",
       "       2.58261876e-02, 2.70495973e-02, 2.83309610e-02, 2.96730241e-02,\n",
       "       3.10786619e-02, 3.25508860e-02, 3.40928507e-02, 3.57078596e-02,\n",
       "       3.73993730e-02, 3.91710149e-02, 4.10265811e-02, 4.29700470e-02,\n",
       "       4.50055768e-02, 4.71375313e-02, 4.93704785e-02, 5.17092024e-02,\n",
       "       5.41587138e-02, 5.67242607e-02, 5.94113398e-02, 6.22257084e-02,\n",
       "       6.51733960e-02, 6.82607183e-02, 7.14942899e-02, 7.48810386e-02,\n",
       "       7.84282206e-02, 8.21434358e-02, 8.60346442e-02, 9.01101825e-02,\n",
       "       9.43787828e-02, 9.88495905e-02, 1.03532184e-01, 1.08436597e-01,\n",
       "       1.13573336e-01, 1.18953407e-01, 1.24588336e-01, 1.30490198e-01,\n",
       "       1.36671636e-01, 1.43145894e-01, 1.49926843e-01, 1.57029012e-01,\n",
       "       1.64467618e-01, 1.72258597e-01, 1.80418641e-01, 1.88965234e-01,\n",
       "       1.97916687e-01, 2.07292178e-01, 2.17111795e-01, 2.27396575e-01,\n",
       "       2.38168555e-01, 2.49450814e-01, 2.61267523e-01, 2.73644000e-01,\n",
       "       2.86606762e-01, 3.00183581e-01, 3.14403547e-01, 3.29297126e-01,\n",
       "       3.44896226e-01, 3.61234270e-01, 3.78346262e-01, 3.96268864e-01,\n",
       "       4.15040476e-01, 4.34701316e-01, 4.55293507e-01, 4.76861170e-01,\n",
       "       4.99450512e-01, 5.23109931e-01, 5.47890118e-01, 5.73844165e-01,\n",
       "       6.01027678e-01, 6.29498899e-01, 6.59318827e-01, 6.90551352e-01,\n",
       "       7.23263390e-01, 7.57525026e-01, 7.93409667e-01, 8.30994195e-01,\n",
       "       8.70359136e-01, 9.11588830e-01, 9.54771611e-01, 1.00000000e+00])"
      ]
     },
     "execution_count": 9,
     "metadata": {},
     "output_type": "execute_result"
    }
   ],
   "source": [
    "k"
   ]
  },
  {
   "cell_type": "code",
   "execution_count": null,
   "metadata": {},
   "outputs": [],
   "source": []
  }
 ],
 "metadata": {
  "kernelspec": {
   "display_name": "Python 3",
   "language": "python",
   "name": "python3"
  },
  "language_info": {
   "codemirror_mode": {
    "name": "ipython",
    "version": 3
   },
   "file_extension": ".py",
   "mimetype": "text/x-python",
   "name": "python",
   "nbconvert_exporter": "python",
   "pygments_lexer": "ipython3",
   "version": "3.6.5"
  }
 },
 "nbformat": 4,
 "nbformat_minor": 2
}
