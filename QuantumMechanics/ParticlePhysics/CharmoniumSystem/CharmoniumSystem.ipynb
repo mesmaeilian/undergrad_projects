{
 "cells": [
  {
   "cell_type": "code",
   "execution_count": 1,
   "metadata": {},
   "outputs": [],
   "source": [
    "import matplotlib.pyplot as plt\n",
    "from matplotlib import rc\n",
    "import numpy as np"
   ]
  },
  {
   "cell_type": "code",
   "execution_count": 2,
   "metadata": {},
   "outputs": [],
   "source": [
    "plt.rc('font', family='serif')\n",
    "plt.rc('text', usetex=True)"
   ]
  },
  {
   "cell_type": "code",
   "execution_count": 3,
   "metadata": {},
   "outputs": [
    {
     "data": {
      "text/plain": [
       "Text(0, 0.5, '$E/(c^{2})$')"
      ]
     },
     "execution_count": 3,
     "metadata": {},
     "output_type": "execute_result"
    },
    {
     "data": {
      "image/png": "[encoded data removed]",
      "text/plain": [
       "<Figure size 576x432 with 1 Axes>"
      ]
     },
     "metadata": {
      "needs_background": "light"
     },
     "output_type": "display_data"
    }
   ],
   "source": [
    "fig, ax = plt.subplots(figsize=(8,6))\n",
    "\n",
    "ax.hlines(-98.42, 0.5,1.5)\n",
    "ax.hlines(568.65, 0.5,1.5)\n",
    "ax.hlines(5.23, 1.5,2.5)\n",
    "ax.hlines(608.29, 1.5,2.5)\n",
    "ax.hlines(936.51, 1.5,2.5)\n",
    "ax.hlines(1046.19, 1.5,2.5)\n",
    "ax.hlines(462.82, 2.5,3.5)\n",
    "ax.hlines(330.42, 3.5,4.5)\n",
    "ax.hlines(426.51, 4.5,5.5)\n",
    "ax.hlines(472.56, 5.5,6.5)\n",
    "ax.hlines(831.93, 5.5,6.5)\n",
    "\n",
    "ax.text(0.7,-50,r'$\\eta_{c}(1s)$')\n",
    "ax.text(0.7,620,r'$\\eta_{c}(2s)$')\n",
    "ax.text(1.7,55,r'$\\frac{J}{\\psi}(1s)$')\n",
    "ax.text(1.7,660,r'$\\psi(2s)$')\n",
    "ax.text(1.7,985,r'$\\psi(4040)$')\n",
    "ax.text(1.7,1100,r'$\\psi(4160)$')\n",
    "ax.text(2.7,510,r'$h_{c}(1P)$')\n",
    "ax.text(3.7,380,r'$\\chi_{c0}(1P)$')\n",
    "ax.text(4.7,475,r'$\\chi_{c1}(1P)$')\n",
    "ax.text(5.73,520,r'$\\chi_{c2}(1P)$')\n",
    "ax.text(5.7,880,r'$\\chi_{c2}(3930)$')\n",
    "\n",
    "ax.set_xticks([0,1,2,3,4,5,6])\n",
    "ax.set_xticklabels([r'$0$',r'$0^{-+}$',r'$1^{--}$',r'$1^{+-}$',r'$0^{++}$',r'$1^{++}$',r'$2^{++}$'])\n",
    "ax.set_yticks(np.arange(-100, 1201, 100))\n",
    "\n",
    "ax.set_xlabel(r'$J^{PC}$')\n",
    "ax.set_ylabel(r'$E/(c^{2})$')\n",
    "\n",
    "fig.savefig('/Users/Muhammad/Desktop/CH.eps', format='eps', dpi=100)"
   ]
  },
  {
   "cell_type": "code",
   "execution_count": null,
   "metadata": {},
   "outputs": [],
   "source": []
  }
 ],
 "metadata": {
  "kernelspec": {
   "display_name": "Python 3",
   "language": "python",
   "name": "python3"
  },
  "language_info": {
   "codemirror_mode": {
    "name": "ipython",
    "version": 3
   },
   "file_extension": ".py",
   "mimetype": "text/x-python",
   "name": "python",
   "nbconvert_exporter": "python",
   "pygments_lexer": "ipython3",
   "version": "3.6.5"
  }
 },
 "nbformat": 4,
 "nbformat_minor": 2
}
